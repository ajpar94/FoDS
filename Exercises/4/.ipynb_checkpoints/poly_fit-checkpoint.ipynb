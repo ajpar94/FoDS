{
 "cells": [
  {
   "cell_type": "code",
   "execution_count": null,
   "metadata": {},
   "outputs": [
    {
     "name": "stdout",
     "output_type": "stream",
     "text": [
      "weights:  [[  0.           5.4767237    1.38835977 -28.89127784  -5.2861378\n",
      "   35.48946778   5.20452315 -10.67079926]]\n"
     ]
    }
   ],
   "source": [
    "### Polynomial regression with Scikit-learn ###\n",
    "# https://scikit-learn.org/stable/install.html\n",
    "\n",
    "import numpy as np\n",
    "import matplotlib.pyplot as plt\n",
    "%mtaplot lib\n",
    "from sklearn.preprocessing import PolynomialFeatures\n",
    "from sklearn.linear_model import Ridge # Ridge = Linear regression with L2 regularization\n",
    "from sklearn.pipeline import Pipeline\n",
    "\n",
    "# generate training data\n",
    "x = np.random.rand(20,1)*2-1 # input data must be a two-dimensional array\n",
    "y = np.sin(2*np.math.pi*x)\n",
    "\n",
    "regularization_parameter = 0.0001\n",
    "# build and fit model\n",
    "model = Pipeline([('poly', PolynomialFeatures(degree=7)),('linear', Ridge(alpha=regularization_parameter))])\n",
    "model = model.fit(x, y)\n",
    "\n",
    "# print weights of fitted model\n",
    "w = model.named_steps['linear'].coef_\n",
    "print('weights: ',w)\n",
    "\n",
    "# generate test data and predict y values\n",
    "x_test = np.linspace(-1,1,100)\n",
    "x_test = x_test.reshape((100,1)) # input data must be a two-dimensional array\n",
    "y_prediction = model.predict(x_test)\n",
    "\n",
    "# plot\n",
    "plt.scatter(x,y,label='data')\n",
    "plt.plot(x_test,y_prediction, label='fitted model')\n",
    "plt.legend()\n",
    "plt.show()\n"
   ]
  },
  {
   "cell_type": "code",
   "execution_count": null,
   "metadata": {
    "collapsed": true
   },
   "outputs": [],
   "source": []
  }
 ],
 "metadata": {
  "kernelspec": {
   "display_name": "Python 3",
   "language": "python",
   "name": "python3"
  },
  "language_info": {
   "codemirror_mode": {
    "name": "ipython",
    "version": 3
   },
   "file_extension": ".py",
   "mimetype": "text/x-python",
   "name": "python",
   "nbconvert_exporter": "python",
   "pygments_lexer": "ipython3",
   "version": "3.5.2"
  }
 },
 "nbformat": 4,
 "nbformat_minor": 2
}
