{
 "cells": [
  {
   "cell_type": "markdown",
   "metadata": {},
   "source": [
    "# Exercise Sheet 08: Softmax Regression"
   ]
  },
  {
   "cell_type": "markdown",
   "metadata": {},
   "source": [
    "## Exercise 8.2"
   ]
  },
  {
   "cell_type": "code",
   "execution_count": 85,
   "metadata": {
    "collapsed": true
   },
   "outputs": [],
   "source": [
    "import numpy as np\n",
    "import matplotlib.pyplot as plt\n",
    "\n",
    "\n",
    "# TODO: Implement softmax regression. Regularization is optional.\n",
    "\n",
    "class SoftmaxRegression(object):\n",
    "    def __init__(self):\n",
    "        \n",
    "    def fit():\n",
    "    \n",
    "    def loss():\n",
    "        \n",
    "    def predict():\n",
    "        \n",
    "    def evaluate():\n",
    "    \n",
    "        "
   ]
  },
  {
   "cell_type": "markdown",
   "metadata": {
    "collapsed": true
   },
   "source": [
    "## Exercise 8.3"
   ]
  },
  {
   "cell_type": "code",
   "execution_count": 87,
   "metadata": {
    "collapsed": true
   },
   "outputs": [],
   "source": [
    "import pandas as pd\n",
    "import numpy as np\n",
    "import matplotlib.pyplot as plt\n",
    "\n",
    "\n",
    "def load_mnist(path, classes = range(10)):\n",
    "    \"\"\" Load data from mnist dataset stored in csv format. \n",
    "        Rows correspond to examples.\n",
    "        First column are the labels, all other columns constitute the data.\n",
    "        Each image is 28 x 28 stored as 784-dim. vector.\n",
    "        Input: \n",
    "            path      path to csv file\n",
    "            classes   list of classes to extract\n",
    "        Output:\n",
    "            data      design matrix holding the images\n",
    "            labels    array of corresponding labels\n",
    "    \n",
    "    \"\"\"\n",
    "    df = pd.read_csv(path, header=None)\n",
    "    lab = np.array(df.iloc[:,0])\n",
    "    dat = np.array(df.iloc[:,1:])\n",
    "\n",
    "    ind = [c in classes for c in lab]\n",
    "\n",
    "    data = dat[ind,:]\n",
    "    labels = lab[ind]\n",
    "\n",
    "    return data,labels\n",
    "\n",
    "def plot_mnist(x):\n",
    "    \"\"\" Plot an mnist image.\n",
    "        Input:\n",
    "            x      784-dim. vector representing a grayscale image of size 28 x 28.\n",
    "    \"\"\"\n",
    "    img = np.reshape(x,(28,28))\n",
    "    plt.imshow(img,cmap='gray')\n",
    "    plt.show()\n",
    "\n",
    "X_test, y_test = load_mnist('mnist_test.csv')\n",
    "X_train, y_train = load_mnist('mnist_train.csv')\n"
   ]
  },
  {
   "cell_type": "code",
   "execution_count": null,
   "metadata": {
    "collapsed": true
   },
   "outputs": [],
   "source": [
    "classifier = SoftmaxRegression()\n",
    "\n",
    "LOSS_TRAIN, LOSS_EVAL = classifier.fit(X_train,y_train)\n",
    "# TODO: plot boht loss curves\n",
    "\n",
    "acc_test = classifier.evaluate(X_test,y_test)\n",
    "acc_train = classifier.evaluate(X_train,y_train)\n",
    "print('Test Accuracy =',acc_test)\n",
    "print('Train Accuracy =',acc_train)\n",
    "\n"
   ]
  }
 ],
 "metadata": {
  "kernelspec": {
   "display_name": "Python 3",
   "language": "python",
   "name": "python3"
  },
  "language_info": {
   "codemirror_mode": {
    "name": "ipython",
    "version": 3
   },
   "file_extension": ".py",
   "mimetype": "text/x-python",
   "name": "python",
   "nbconvert_exporter": "python",
   "pygments_lexer": "ipython3",
   "version": "3.5.2"
  }
 },
 "nbformat": 4,
 "nbformat_minor": 2
}
