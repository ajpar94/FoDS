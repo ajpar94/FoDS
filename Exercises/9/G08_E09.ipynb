{
 "cells": [
  {
   "cell_type": "code",
   "execution_count": 1,
   "metadata": {
    "collapsed": true
   },
   "outputs": [],
   "source": [
    "import numpy as np\n",
    "import seaborn as sns\n",
    "import matplotlib.pyplot as plt\n",
    "%matplotlib inline\n",
    "\n",
    "from ipywidgets import interact, interaction, fixed, interact_manual\n",
    "import ipywidgets as widgets"
   ]
  },
  {
   "cell_type": "code",
   "execution_count": 2,
   "metadata": {
    "collapsed": true
   },
   "outputs": [],
   "source": [
    "def sigmoid(z):\n",
    "    return 1/(1+np.exp(-z))\n",
    "\n",
    "def out(x, W1, W2):\n",
    "    X = np.vstack((np.ones(x.shape[0]),x))\n",
    "    h = sigmoid(W1@X)\n",
    "    h = np.vstack((np.ones(x.shape[0]),h))\n",
    "    return (W2@h)"
   ]
  },
  {
   "cell_type": "code",
   "execution_count": 10,
   "metadata": {},
   "outputs": [
    {
     "data": {
      "application/vnd.jupyter.widget-view+json": {
       "model_id": "03a684f4f22845559148eb0c06fc3a07",
       "version_major": 2,
       "version_minor": 0
      },
      "text/plain": [
       "interactive(children=(FloatSlider(value=1.0, description='w11', max=3.0, min=-1.0), FloatSlider(value=1.0, des…"
      ]
     },
     "metadata": {},
     "output_type": "display_data"
    },
    {
     "data": {
      "text/plain": [
       "<function __main__.f>"
      ]
     },
     "execution_count": 10,
     "metadata": {},
     "output_type": "execute_result"
    }
   ],
   "source": [
    "def f(w11,w12,w21,w22,b11,b12,b2):\n",
    "    \n",
    "    W1 = np.array([[b11, w11],[b12,w12]])\n",
    "    W2 = np.array([b2,w21,w22])\n",
    "    X = np.linspace(-50,50)\n",
    "    plt.figure(figsize=(10,5))\n",
    "    plt.xlim(-50,50)\n",
    "    plt.ylim(0,5)\n",
    "    plt.plot(X,out(X,W1,W2))\n",
    "\n",
    "interact(f, w11=1.,w12=1.,w21=1.,w22=1.,b11=1.,b12=1.,b2=1.)"
   ]
  },
  {
   "cell_type": "code",
   "execution_count": null,
   "metadata": {
    "collapsed": true
   },
   "outputs": [],
   "source": []
  }
 ],
 "metadata": {
  "kernelspec": {
   "display_name": "Python 3",
   "language": "python",
   "name": "python3"
  },
  "language_info": {
   "codemirror_mode": {
    "name": "ipython",
    "version": 3
   },
   "file_extension": ".py",
   "mimetype": "text/x-python",
   "name": "python",
   "nbconvert_exporter": "python",
   "pygments_lexer": "ipython3",
   "version": "3.5.5"
  }
 },
 "nbformat": 4,
 "nbformat_minor": 2
}
