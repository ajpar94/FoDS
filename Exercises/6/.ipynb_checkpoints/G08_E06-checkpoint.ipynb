{
 "cells": [
  {
   "cell_type": "markdown",
   "metadata": {},
   "source": [
    "# Naive Bayes"
   ]
  },
  {
   "cell_type": "code",
   "execution_count": 92,
   "metadata": {
    "collapsed": true
   },
   "outputs": [],
   "source": [
    "import numpy as np\n",
    "\n",
    "class BernoulliNaiveBayesClassifier(object):\n",
    "    \n",
    "    def __init__(self):\n",
    "        self.labels = None\n",
    "        self.priors = None\n",
    "        self.P = None\n",
    "        \n",
    "        \n",
    "    def fit(self, X, y, a=0):\n",
    "        \"\"\" Fit a naive Bayes model \n",
    "            Input:\n",
    "                X:  2-dim binary Array of shape (m,n), \n",
    "                    where m is the number of documents and n is the size of the vocaulary.\n",
    "                    Rows correspond to documents and columns correspond to words.\n",
    "                    X[i,j] = 1  if document i cointains word j\n",
    "                    X[i,j] = 0  if document i does not cointain word j\n",
    "                y:  1-dim Array of length m containing the class label of each document in X\n",
    "                a: LaPlace Smoothing Parameter\n",
    "        \"\"\"\n",
    "        X = np.array(X)\n",
    "        y = np.array(y)\n",
    "        m,n = X.shape\n",
    "        self.labels, counts = np.unique(y, return_counts=True)\n",
    "        self.priors = counts/m\n",
    "        # likelihoods\n",
    "        self.P = np.zeros((len(self.labels),n))\n",
    "        for k in range(len(self.labels)):\n",
    "            self.P[k] = (np.sum(X[np.where(y==self.labels[k])], axis=0) + a) / (counts[k] + a*n)\n",
    "        \n",
    "        \n",
    "    def predict(self, X):\n",
    "        X = np.array(X)\n",
    "        H = self.priors * np.prod(np.power(self.P,X)*np.power(1-self.P,1-X), axis=1)\n",
    "        print(H)\n",
    "        prediction = self.labels[np.argmax(H)]\n",
    "        return prediction\n",
    "        \n",
    "        \n",
    "    def evaluate(self, X, y):\n",
    "        \"\"\" Evaluates the fitted Naive Bayes model on test data X,y\n",
    "            Input:\n",
    "                X: Test data, format as described in fit()\n",
    "                y: Test labels, format as described in fit()\n",
    "        \"\"\"\n",
    "        X = np.array(X)\n",
    "        y = np.array(y)\n",
    "        yp = self.predict(X)\n",
    "        \n",
    "        a = y+(10*yp)\n",
    "        b,counts = np.unique(a,return_counts=True)\n",
    "        tp = counts[0]\n",
    "        fn = counts[1] \n",
    "        fp = counts[2]\n",
    "        tn = counts[3]\n",
    "        \n",
    "        acc = (tp *tn)/(tp+tn+fp+fn)\n",
    "        pre = tp/(tp+fp)\n",
    "        rec = tp/(tp+fn)\n",
    "        \n",
    "        print('Accuracy:', acc)\n",
    "        print('Precision:', pre)\n",
    "        print('Recall:', rec)\n",
    "\n",
    "        \n",
    "        \n",
    "class MultinomialNaiveBayesClassifier(object):\n",
    "    \n",
    "    def __init__(self):\n",
    "        self.labels = None\n",
    "        self.priors = None\n",
    "        self.P = None\n",
    "        \n",
    "        \n",
    "    def fit(self, X, y, a=0):\n",
    "        \"\"\" Fit a naive Bayes model \n",
    "            Input:\n",
    "                X:  2-dim Array of shape (m,n), \n",
    "                    where m is the number of documents and n is the size of the vocaulary.\n",
    "                    Rows correspond to documents and columns correspond to words.\n",
    "                    X[i,j] = k  if document i cointains k times the word j\n",
    "                y:  1-dim Array of length m containing the class label of each document in X\n",
    "        \"\"\"\n",
    "        X = np.array(X)\n",
    "        y = np.array(y)\n",
    "        m,n = X.shape\n",
    "        self.labels, counts = np.unique(y, return_counts=True)\n",
    "        self.priors = counts/m\n",
    "        # likelihoods\n",
    "        self.P = np.zeros((len(self.labels),n))\n",
    "        for k in range(len(self.labels)):\n",
    "            temp = X[np.where(y==self.labels[k])]\n",
    "            self.P[k] = (np.sum(temp, axis=0) + a) / (np.sum(temp) + a*n)\n",
    "        \n",
    "        \n",
    "    def predict(self, X):\n",
    "        X = np.array(X)\n",
    "        H = self.priors * np.prod(np.power(self.P,X), axis=1)\n",
    "        print(H)\n",
    "        prediction = self.labels[np.argmax(H)]\n",
    "        return prediction\n",
    "        \n",
    "        \n",
    "    def evaluate(self, X, y):\n",
    "        \"\"\" Evaluates the fitted Naive Bayes model on test data X,y\n",
    "            Input:\n",
    "                X: Test data, format as described in fit()\n",
    "                y: Test labels, format as described in fit()\n",
    "        \"\"\"\n",
    "        print('Please implement the method evaluate')\n",
    "        acc = 0\n",
    "        pre = 0\n",
    "        rec = 0\n",
    "        print('Accuracy:', acc)\n",
    "        print('Precision:', pre)\n",
    "        print('Recall:', rec)\n"
   ]
  },
  {
   "cell_type": "markdown",
   "metadata": {},
   "source": [
    "## Demo, just for inspiration:"
   ]
  },
  {
   "cell_type": "code",
   "execution_count": 95,
   "metadata": {
    "scrolled": true
   },
   "outputs": [
    {
     "name": "stdout",
     "output_type": "stream",
     "text": [
      "Vocabulary:  ['and', 'document', 'first', 'is', 'one', 'second', 'the', 'third', 'this']\n",
      "Feature Matrix: [[0 1 1 1 0 0 1 0 1]\n",
      " [0 1 0 1 0 2 1 0 1]\n",
      " [1 0 0 0 1 0 1 1 0]\n",
      " [0 1 1 1 0 0 1 0 1]]\n",
      "New Feature Matrix: [[0 1 0 1 0 0 0 0 1]]\n",
      "[ 0.004   0.0005]\n",
      "Feature matrix of test data: [[0 1 1 1 0 0 1 0 1]\n",
      " [0 1 0 1 0 2 1 0 1]\n",
      " [1 0 0 0 1 0 1 1 0]\n",
      " [0 1 1 1 0 0 1 0 1]]\n",
      "Please implement the method evaluate\n",
      "Accuracy: 0\n",
      "Precision: 0\n",
      "Recall: 0\n"
     ]
    }
   ],
   "source": [
    "from sklearn.feature_extraction.text import CountVectorizer\n",
    "\n",
    "# toy data\n",
    "corpus = [\n",
    "     'This is the first document.',\n",
    "     'This is the second second document.',\n",
    "     'And the third one.',\n",
    "     'Is this the first document?',]\n",
    "\n",
    "# toy labels\n",
    "y = [0,1,1,0]\n",
    "\n",
    "# extract features \n",
    "vectorizer = CountVectorizer()\n",
    "X = vectorizer.fit_transform(corpus)\n",
    "print('Vocabulary: ', vectorizer.get_feature_names())\n",
    "print('Feature Matrix:', X.toarray())\n",
    "\n",
    "\n",
    "# instantiate a classifier\n",
    "nb = MultinomialNaiveBayesClassifier()\n",
    "\n",
    "# fit the model\n",
    "nb.fit(X.toarray(),y)\n",
    "\n",
    "# predict class of a new document\n",
    "new_text = 'This is some new document. Please classify me.'\n",
    "X_new = vectorizer.transform([new_text]).toarray()\n",
    "print('New Feature Matrix:',X_new)\n",
    "nb.predict(X_new)\n",
    "\n",
    "# evaluate the model\n",
    "test_corpus = [\n",
    "     'This is the first test document.',\n",
    "     'This is the second test second document.',\n",
    "     'And the third one.',\n",
    "     'Is this the first document?',]\n",
    "\n",
    "X_test = vectorizer.transform(test_corpus).toarray()\n",
    "print('Feature matrix of test data:',X_test)\n",
    "y_test = [0,1,1,1]\n",
    "\n",
    "nb.evaluate(X_test,y_test)"
   ]
  },
  {
   "cell_type": "code",
   "execution_count": 57,
   "metadata": {},
   "outputs": [],
   "source": [
    "X = np.array([[1,0,1],[0,1,1],[1,1,0],[0,0,0],[0,0,1]])\n",
    "y = np.array(['h','s','h','h','h'])\n",
    "\n",
    "m,n = X.shape\n",
    "labels, counts = np.unique(y, return_counts=True)\n",
    "priors = counts/m\n",
    "        \n",
    "# likelihoods\n",
    "P = np.zeros((len(labels),n))\n",
    "for k in range(len(labels)):\n",
    "    P[k] = np.sum(X[np.where(y==labels[k])], axis=0) / counts[k]"
   ]
  },
  {
   "cell_type": "code",
   "execution_count": 59,
   "metadata": {},
   "outputs": [
    {
     "name": "stdout",
     "output_type": "stream",
     "text": [
      "[ 0.5   0.25  0.5 ]\n",
      "[ 0.  1.  1.]\n"
     ]
    }
   ],
   "source": [
    "for p in P:\n",
    "    print(p)"
   ]
  },
  {
   "cell_type": "code",
   "execution_count": 63,
   "metadata": {},
   "outputs": [
    {
     "data": {
      "text/plain": [
       "array([ 0.5,  1. ,  0.5])"
      ]
     },
     "execution_count": 63,
     "metadata": {},
     "output_type": "execute_result"
    }
   ],
   "source": [
    "x = np.array([1,0,1])\n",
    "np.power(P[0],x)\n"
   ]
  },
  {
   "cell_type": "code",
   "execution_count": 64,
   "metadata": {},
   "outputs": [
    {
     "data": {
      "text/plain": [
       "array([ 1.  ,  0.75,  1.  ])"
      ]
     },
     "execution_count": 64,
     "metadata": {},
     "output_type": "execute_result"
    }
   ],
   "source": [
    "np.power(1-P[0],1-x)"
   ]
  },
  {
   "cell_type": "code",
   "execution_count": 67,
   "metadata": {},
   "outputs": [],
   "source": [
    "f=np.power(P,x)"
   ]
  },
  {
   "cell_type": "code",
   "execution_count": 71,
   "metadata": {},
   "outputs": [
    {
     "data": {
      "text/plain": [
       "array([ 0.25,  0.  ])"
      ]
     },
     "execution_count": 71,
     "metadata": {},
     "output_type": "execute_result"
    }
   ],
   "source": [
    "np.prod(f, axis=1)"
   ]
  },
  {
   "cell_type": "code",
   "execution_count": 73,
   "metadata": {},
   "outputs": [],
   "source": [
    "h = np.prod(np.power(P,x)*np.power(1-P,1-x), axis=1)"
   ]
  },
  {
   "cell_type": "code",
   "execution_count": 87,
   "metadata": {},
   "outputs": [
    {
     "data": {
      "text/plain": [
       "array([ 0.03515625,  0.        ])"
      ]
     },
     "execution_count": 87,
     "metadata": {},
     "output_type": "execute_result"
    }
   ],
   "source": [
    "h*h"
   ]
  },
  {
   "cell_type": "code",
   "execution_count": 85,
   "metadata": {},
   "outputs": [
    {
     "name": "stdout",
     "output_type": "stream",
     "text": [
      "Vocabulary:  ['and', 'document', 'first', 'is', 'one', 'second', 'the', 'third', 'this']\n",
      "Feature Matrix: [[0 1 1 1 0 0 1 0 1]\n",
      " [0 1 0 1 0 2 1 0 1]\n",
      " [1 0 0 0 1 0 1 1 0]\n",
      " [0 1 1 1 0 0 1 0 1]]\n",
      "This is the constructor\n",
      "Please implement the method fit\n",
      "New Feature Matrix: [[0 1 0 1 0 0 0 0 1]]\n",
      "Please implement the method predict\n",
      "Feature matrix of test data: [[0 1 1 1 0 0 1 0 1]\n",
      " [0 1 0 1 0 2 1 0 1]\n",
      " [1 0 0 0 1 0 1 1 0]\n",
      " [0 1 1 1 0 0 1 0 1]]\n",
      "Please implement the method evaluate\n",
      "Accuracy: 0\n",
      "Precision: 0\n",
      "Recall: 0\n"
     ]
    }
   ],
   "source": [
    "from sklearn.feature_extraction.text import CountVectorizer\n",
    "\n",
    "# toy data\n",
    "corpus = [\n",
    "     'This is the first document.',\n",
    "     'This is the second second document.',\n",
    "     'And the third one.',\n",
    "     'Is this the first document?',]\n",
    "\n",
    "# toy labels\n",
    "y = [0,1,1,0]\n",
    "\n",
    "# extract features \n",
    "vectorizer = CountVectorizer()\n",
    "X = vectorizer.fit_transform(corpus)\n",
    "print('Vocabulary: ', vectorizer.get_feature_names())\n",
    "print('Feature Matrix:', X.toarray())\n",
    "\n",
    "\n",
    "# instantiate a classifier\n",
    "nb = MultinomialNaiveBayesClassifier()\n",
    "\n",
    "# fit the model\n",
    "nb.fit(X,y)\n",
    "\n",
    "# predict class of a new document\n",
    "new_text = 'This is some new document. Please classify me.'\n",
    "X_new = vectorizer.transform([new_text]).toarray()\n",
    "print('New Feature Matrix:',X_new)\n",
    "nb.predict(X_new)\n",
    "\n",
    "# evaluate the model\n",
    "test_corpus = [\n",
    "     'This is the first test document.',\n",
    "     'This is the second test second document.',\n",
    "     'And the third one.',\n",
    "     'Is this the first document?',]\n",
    "\n",
    "X_test = vectorizer.transform(test_corpus).toarray()\n",
    "print('Feature matrix of test data:',X_test)\n",
    "y_test = [0,1,1,1]\n",
    "\n",
    "nb.evaluate(X_test,y_test)"
   ]
  },
  {
   "cell_type": "code",
   "execution_count": 119,
   "metadata": {},
   "outputs": [],
   "source": [
    "yt=np.array([1,0,1,0,1])\n",
    "yp=np.array([1,0,1,1,0])\n",
    "\n",
    "a =yt+(10*yp)\n",
    "labels, counts = np.unique(a,return_counts=True)"
   ]
  },
  {
   "cell_type": "code",
   "execution_count": 115,
   "metadata": {},
   "outputs": [
    {
     "data": {
      "text/plain": [
       "array(['tn', 'tp', 'fn', 'fp'], \n",
       "      dtype='<U2')"
      ]
     },
     "execution_count": 115,
     "metadata": {},
     "output_type": "execute_result"
    }
   ],
   "source": [
    "my_dict = {11:'tn', 0:'tp', 1:'fp', 10:'fn'}\n",
    "np.vectorize(my_dict.get)(a)"
   ]
  },
  {
   "cell_type": "code",
   "execution_count": 120,
   "metadata": {},
   "outputs": [
    {
     "data": {
      "text/plain": [
       "array([1, 1, 1, 2])"
      ]
     },
     "execution_count": 120,
     "metadata": {},
     "output_type": "execute_result"
    }
   ],
   "source": [
    "counts"
   ]
  },
  {
   "cell_type": "code",
   "execution_count": 121,
   "metadata": {},
   "outputs": [
    {
     "data": {
      "text/plain": [
       "array([ 0,  1, 10, 11])"
      ]
     },
     "execution_count": 121,
     "metadata": {},
     "output_type": "execute_result"
    }
   ],
   "source": [
    "labels"
   ]
  },
  {
   "cell_type": "code",
   "execution_count": null,
   "metadata": {
    "collapsed": true
   },
   "outputs": [],
   "source": []
  }
 ],
 "metadata": {
  "kernelspec": {
   "display_name": "Python 3",
   "language": "python",
   "name": "python3"
  },
  "language_info": {
   "codemirror_mode": {
    "name": "ipython",
    "version": 3
   },
   "file_extension": ".py",
   "mimetype": "text/x-python",
   "name": "python",
   "nbconvert_exporter": "python",
   "pygments_lexer": "ipython3",
   "version": "3.5.2"
  }
 },
 "nbformat": 4,
 "nbformat_minor": 2
}
