{
 "cells": [
  {
   "cell_type": "markdown",
   "metadata": {},
   "source": [
    "# Naive Bayes"
   ]
  },
  {
   "cell_type": "code",
   "execution_count": 211,
   "metadata": {
    "collapsed": true
   },
   "outputs": [],
   "source": [
    "import numpy as np\n",
    "\n",
    "# Hilfsfunktion\n",
    "def stats(y,yp):\n",
    "    temp = y+(10*yp)\n",
    "    tp,tn,fp,fn =0,0,0,0\n",
    "    for i in temp:\n",
    "        if i==0:\n",
    "            tn+=1\n",
    "        elif i==1:\n",
    "            fp+=1\n",
    "        elif i==10:\n",
    "            fn+=1\n",
    "        else:\n",
    "            tp+=1\n",
    "        \n",
    "    acc = (tp +tn)/(tp+tn+fp+fn)\n",
    "    if tp==0:\n",
    "        pre,rec = 0,0\n",
    "    else:\n",
    "        pre = tp/(tp+fp)\n",
    "        rec = tp/(tp+fn)\n",
    "    \n",
    "    return acc, pre, rec"
   ]
  },
  {
   "cell_type": "markdown",
   "metadata": {},
   "source": [
    "## 6.1, 6.2, 6.3"
   ]
  },
  {
   "cell_type": "code",
   "execution_count": 184,
   "metadata": {},
   "outputs": [],
   "source": [
    "class BernoulliNaiveBayesClassifier(object):\n",
    "    \n",
    "    def __init__(self):\n",
    "        self.labels = None\n",
    "        self.priors = None\n",
    "        self.P = None\n",
    "        \n",
    "        \n",
    "    def fit(self, X, y, a=0):\n",
    "        \"\"\" Fit a naive Bayes model \n",
    "            Input:\n",
    "                X:  2-dim binary Array of shape (m,n), \n",
    "                    where m is the number of documents and n is the size of the vocaulary.\n",
    "                    Rows correspond to documents and columns correspond to words.\n",
    "                    X[i,j] = 1  if document i cointains word j\n",
    "                    X[i,j] = 0  if document i does not cointain word j\n",
    "                y:  1-dim Array of length m containing the class label of each document in X\n",
    "                a: LaPlace Smoothing Parameter\n",
    "        \"\"\"\n",
    "        X = np.array(X)\n",
    "        y = np.array(y)\n",
    "        m,n = X.shape\n",
    "        self.labels, counts = np.unique(y, return_counts=True)\n",
    "        self.priors = counts/m\n",
    "        # likelihoods\n",
    "        self.P = np.zeros((len(self.labels),n))\n",
    "        for k in range(len(self.labels)):\n",
    "            self.P[k] = (np.sum(X[np.where(y==self.labels[k])], axis=0) + a) / (counts[k] + a*n)\n",
    "        \n",
    "        \n",
    "    def predict(self, X):\n",
    "        X = np.array(X)\n",
    "        H = self.priors * np.prod(np.power(self.P,X)*np.power(1-self.P,1-X), axis=1)\n",
    "        #print(H)\n",
    "        prediction = self.labels[np.argmax(H)]\n",
    "        return prediction\n",
    "        \n",
    "        \n",
    "    def evaluate(self, X, y):\n",
    "        \"\"\" Evaluates the fitted Naive Bayes model on test data X,y\n",
    "            Input:\n",
    "                X: Test data, format as described in fit()\n",
    "                y: Test labels, format as described in fit()\n",
    "        \"\"\"\n",
    "        X = np.array(X)\n",
    "        y = np.array(y)\n",
    "        yp = []\n",
    "        for x in X:\n",
    "            yp.append(self.predict(x))\n",
    "        yp = np.array(yp)\n",
    "        acc, pre, rec = stats(y,yp)\n",
    "        print('Accuracy:', acc)\n",
    "        print('Precision:', pre)\n",
    "        print('Recall:', rec)\n",
    "\n",
    "        \n",
    "        \n",
    "class MultinomialNaiveBayesClassifier(object):\n",
    "    \n",
    "    def __init__(self):\n",
    "        self.labels = None\n",
    "        self.priors = None\n",
    "        self.P = None\n",
    "        \n",
    "        \n",
    "    def fit(self, X, y, a=0):\n",
    "        \"\"\" Fit a naive Bayes model \n",
    "            Input:\n",
    "                X:  2-dim Array of shape (m,n), \n",
    "                    where m is the number of documents and n is the size of the vocaulary.\n",
    "                    Rows correspond to documents and columns correspond to words.\n",
    "                    X[i,j] = k  if document i cointains k times the word j\n",
    "                y:  1-dim Array of length m containing the class label of each document in X\n",
    "        \"\"\"\n",
    "        X = np.array(X)\n",
    "        y = np.array(y)\n",
    "        m,n = X.shape\n",
    "        self.labels, counts = np.unique(y, return_counts=True)\n",
    "        self.priors = counts/m\n",
    "        # likelihoods\n",
    "        self.P = np.zeros((len(self.labels),n))\n",
    "        for k in range(len(self.labels)):\n",
    "            temp = X[np.where(y==self.labels[k])]\n",
    "            self.P[k] = (np.sum(temp, axis=0) + a) / (np.sum(temp) + a*n)\n",
    "        \n",
    "        \n",
    "    def predict(self, X):\n",
    "        X = np.array(X)\n",
    "        H = self.priors * np.prod(np.power(self.P,X), axis=1)\n",
    "        #print(H)\n",
    "        prediction = self.labels[np.argmax(H)]\n",
    "        return prediction\n",
    "        \n",
    "        \n",
    "    def evaluate(self, X, y):\n",
    "        \"\"\" Evaluates the fitted Naive Bayes model on test data X,y\n",
    "            Input:\n",
    "                X: Test data, format as described in fit()\n",
    "                y: Test labels, format as described in fit()\n",
    "        \"\"\"\n",
    "        X = np.array(X)\n",
    "        y = np.array(y)\n",
    "        yp = []\n",
    "        for x in X:\n",
    "            yp.append(self.predict(x))\n",
    "        yp = np.array(yp)\n",
    "        acc, pre, rec = stats(y,yp)\n",
    "        print('Accuracy:', acc)\n",
    "        print('Precision:', pre)\n",
    "        print('Recall:', rec)"
   ]
  },
  {
   "cell_type": "markdown",
   "metadata": {},
   "source": [
    "## 6.4"
   ]
  },
  {
   "cell_type": "code",
   "execution_count": 200,
   "metadata": {},
   "outputs": [],
   "source": [
    "from sklearn.feature_extraction.text import CountVectorizer\n",
    "import pandas as pd\n",
    "\n",
    "# read data\n",
    "df = pd.read_csv('SMSSpamCollection.csv',delimiter='\\t',header=None)\n",
    "data = df.values\n",
    "\n",
    "# prepare data\n",
    "x,y = data[:,1], data[:,0]\n",
    "encode = {'ham':0, 'spam':1}\n",
    "y = np.vectorize(encode.get)(y)\n",
    "\n",
    "#train-test split\n",
    "x_train, y_train = x[:4500], y[:4500]\n",
    "x_test, y_test = x[4500:], y[4500:]\n",
    "\n",
    "\n",
    "def ex64(classifier='multinomial', ngram=(1,1)):\n",
    "    global x_train, y_train, x_test, y_test\n",
    "    \n",
    "    # vectorize Input\n",
    "    vectorizer = CountVectorizer(ngram_range=ngram)\n",
    "    X_train = vectorizer.fit_transform(x_train).toarray()\n",
    "    X_test = vectorizer.transform(x_test).toarray()\n",
    "    \n",
    "    # instantiate a classifier\n",
    "    if classifier == 'multinomial':\n",
    "        nb = MultinomialNaiveBayesClassifier()\n",
    "    elif classifier == 'bernoulli':\n",
    "        nb = BernoulliNaiveBayesClassifier()\n",
    "        \n",
    "    # fit the model\n",
    "    nb.fit(X_train,y_train)\n",
    "\n",
    "    # evaluate\n",
    "    nb.evaluate(X_test,y_test)"
   ]
  },
  {
   "cell_type": "markdown",
   "metadata": {},
   "source": [
    "## 6.5"
   ]
  },
  {
   "cell_type": "code",
   "execution_count": 205,
   "metadata": {
    "scrolled": true
   },
   "outputs": [
    {
     "name": "stdout",
     "output_type": "stream",
     "text": [
      "Accuracy: 0.9589552238805971\n",
      "Precision: 0.7163120567375887\n",
      "Recall: 0.9619047619047619\n"
     ]
    }
   ],
   "source": [
    "ex64('bernoulli',(1,1))"
   ]
  },
  {
   "cell_type": "code",
   "execution_count": 206,
   "metadata": {},
   "outputs": [
    {
     "name": "stdout",
     "output_type": "stream",
     "text": [
      "Accuracy: 0.9449626865671642\n",
      "Precision: 0.6099290780141844\n",
      "Recall: 0.9555555555555556\n"
     ]
    }
   ],
   "source": [
    "ex64('bernoulli',(1,2))"
   ]
  },
  {
   "cell_type": "code",
   "execution_count": 207,
   "metadata": {},
   "outputs": [
    {
     "name": "stdout",
     "output_type": "stream",
     "text": [
      "Accuracy: 0.9580223880597015\n",
      "Precision: 0.7304964539007093\n",
      "Recall: 0.9363636363636364\n"
     ]
    }
   ],
   "source": [
    "ex64('multinomial',(1,1))"
   ]
  },
  {
   "cell_type": "code",
   "execution_count": 208,
   "metadata": {},
   "outputs": [
    {
     "name": "stdout",
     "output_type": "stream",
     "text": [
      "Accuracy: 0.9430970149253731\n",
      "Precision: 0.6099290780141844\n",
      "Recall: 0.9347826086956522\n"
     ]
    }
   ],
   "source": [
    "ex64('multinomial',(1,2))"
   ]
  },
  {
   "cell_type": "markdown",
   "metadata": {},
   "source": [
    "## 6.6"
   ]
  },
  {
   "cell_type": "code",
   "execution_count": 190,
   "metadata": {},
   "outputs": [],
   "source": [
    "class HamClassifier(object):\n",
    "    \n",
    "    def predict(self, X):\n",
    "        return 0\n",
    "        \n",
    "    def evaluate(self, X, y):\n",
    "        \"\"\" Evaluates the fitted Naive Bayes model on test data X,y\n",
    "            Input:\n",
    "                X: Test data, format as described in fit()\n",
    "                y: Test labels, format as described in fit()\n",
    "        \"\"\"\n",
    "        X = np.array(X)\n",
    "        y = np.array(y)\n",
    "        yp = []\n",
    "        for x in X:\n",
    "            yp.append(self.predict(x))\n",
    "        yp = np.array(yp)\n",
    "        acc, pre, rec = stats(y,yp)\n",
    "        print('Accuracy:', acc)\n",
    "        print('Precision:', pre)\n",
    "        print('Recall:', rec)\n",
    "       \n",
    "    \n",
    "class RandomClassifier(object):\n",
    "    \n",
    "    def predict(self, X):\n",
    "        return np.random.randint(2)\n",
    "        \n",
    "    def evaluate(self, X, y):\n",
    "        \"\"\" Evaluates the fitted Naive Bayes model on test data X,y\n",
    "            Input:\n",
    "                X: Test data, format as described in fit()\n",
    "                y: Test labels, format as described in fit()\n",
    "        \"\"\"\n",
    "        X = np.array(X)\n",
    "        y = np.array(y)\n",
    "        yp = []\n",
    "        for x in X:\n",
    "            yp.append(self.predict(x))\n",
    "        yp = np.array(yp)\n",
    "        acc, pre, rec = stats(y,yp)\n",
    "        print('Accuracy:', acc)\n",
    "        print('Precision:', pre)\n",
    "        print('Recall:', rec)"
   ]
  },
  {
   "cell_type": "code",
   "execution_count": 212,
   "metadata": {
    "scrolled": false
   },
   "outputs": [
    {
     "name": "stdout",
     "output_type": "stream",
     "text": [
      "Accuracy: 0.8684701492537313\n",
      "Precision: 0\n",
      "Recall: 0\n"
     ]
    }
   ],
   "source": [
    "X_test = vectorizer.transform(x_test).toarray()\n",
    "\n",
    "hm = HamClassifier()\n",
    "hm.evaluate(X_test,y_test)"
   ]
  },
  {
   "cell_type": "code",
   "execution_count": 213,
   "metadata": {},
   "outputs": [
    {
     "name": "stdout",
     "output_type": "stream",
     "text": [
      "Accuracy: 0.5298507462686567\n",
      "Precision: 0.5035460992907801\n",
      "Recall: 0.1405940594059406\n"
     ]
    }
   ],
   "source": [
    "rd = RandomClassifier()\n",
    "rd.evaluate(X_test,y_test)"
   ]
  },
  {
   "cell_type": "markdown",
   "metadata": {},
   "source": [
    "## Demo, just for inspiration:"
   ]
  },
  {
   "cell_type": "code",
   "execution_count": 182,
   "metadata": {},
   "outputs": [
    {
     "name": "stdout",
     "output_type": "stream",
     "text": [
      "Vocabulary:  ['and', 'document', 'first', 'is', 'one', 'second', 'the', 'third', 'this']\n",
      "Feature Matrix: [[0 1 1 1 0 0 1 0 1]\n",
      " [0 1 0 1 0 2 1 0 1]\n",
      " [1 0 0 0 1 0 1 1 0]\n",
      " [0 1 1 1 0 0 1 0 1]]\n",
      "New Feature Matrix: [[0 1 0 1 0 0 0 0 1]]\n",
      "Feature matrix of test data: [[0 1 1 1 0 0 1 0 1]\n",
      " [0 1 0 1 0 2 1 0 1]\n",
      " [1 0 0 0 1 0 1 1 0]\n",
      " [0 1 1 1 0 0 1 0 1]]\n",
      "Accuracy: 0.75\n",
      "Precision: 1.0\n",
      "Recall: 0.5\n"
     ]
    }
   ],
   "source": [
    "# toy data\n",
    "corpus = [\n",
    "     'This is the first document.',\n",
    "     'This is the second second document.',\n",
    "     'And the third one.',\n",
    "     'Is this the first document?',]\n",
    "\n",
    "# toy labels\n",
    "y = [0,1,1,0]\n",
    "\n",
    "# extract features \n",
    "vectorizer = CountVectorizer()\n",
    "X = vectorizer.fit_transform(corpus)\n",
    "print('Vocabulary: ', vectorizer.get_feature_names())\n",
    "print('Feature Matrix:', X.toarray())\n",
    "\n",
    "\n",
    "# instantiate a classifier\n",
    "nb = MultinomialNaiveBayesClassifier()\n",
    "\n",
    "# fit the model\n",
    "nb.fit(X.toarray(),y)\n",
    "\n",
    "# predict class of a new document\n",
    "new_text = 'This is some new document. Please classify me.'\n",
    "X_new = vectorizer.transform([new_text]).toarray()\n",
    "print('New Feature Matrix:',X_new)\n",
    "nb.predict(X_new)\n",
    "\n",
    "# evaluate the model\n",
    "test_corpus = [\n",
    "     'This is the first test document.',\n",
    "     'This is the second test second document.',\n",
    "     'And the third one.',\n",
    "     'Is this the first document?',]\n",
    "\n",
    "X_test = vectorizer.transform(test_corpus).toarray()\n",
    "print('Feature matrix of test data:',X_test)\n",
    "y_test = [0,1,1,1]\n",
    "\n",
    "nb.evaluate(X_test,y_test)"
   ]
  },
  {
   "cell_type": "code",
   "execution_count": null,
   "metadata": {
    "collapsed": true
   },
   "outputs": [],
   "source": []
  }
 ],
 "metadata": {
  "kernelspec": {
   "display_name": "Python 3",
   "language": "python",
   "name": "python3"
  },
  "language_info": {
   "codemirror_mode": {
    "name": "ipython",
    "version": 3
   },
   "file_extension": ".py",
   "mimetype": "text/x-python",
   "name": "python",
   "nbconvert_exporter": "python",
   "pygments_lexer": "ipython3",
   "version": "3.5.2"
  }
 },
 "nbformat": 4,
 "nbformat_minor": 2
}
