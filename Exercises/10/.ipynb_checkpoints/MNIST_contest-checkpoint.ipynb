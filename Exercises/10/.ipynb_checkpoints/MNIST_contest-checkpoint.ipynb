{
 "cells": [
  {
   "cell_type": "markdown",
   "metadata": {},
   "source": [
    "# Exercise Sheet 10: MNIST contest"
   ]
  },
  {
   "cell_type": "code",
   "execution_count": 8,
   "metadata": {
    "collapsed": true
   },
   "outputs": [],
   "source": [
    "import pandas as pd\n",
    "import numpy as np\n",
    "\n",
    "\n",
    "def load_mnist(path, classes = range(10)):\n",
    "    \"\"\" Load data from mnist dataset stored in csv format. \n",
    "        Rows correspond to examples.\n",
    "        First column are the labels, all other columns constitute the data.\n",
    "        Each image is 28 x 28 stored as 784-dim. vector .\n",
    "        Input: \n",
    "            path      path to csv file\n",
    "            classes   list of classes to extract\n",
    "        Output:\n",
    "            data      design matrix holding the images\n",
    "            labels    array of corresponding labels\n",
    "    \n",
    "    \"\"\"\n",
    "    df = pd.read_csv(path, header=None)\n",
    "    lab = np.array(df.iloc[:,0])\n",
    "    dat = np.array(df.iloc[:,1:])\n",
    "\n",
    "    ind = [c in classes for c in lab]\n",
    "\n",
    "    data = dat[ind,:]\n",
    "    labels = lab[ind]\n",
    "\n",
    "    return data,labels\n",
    "\n",
    "\n",
    "X_train, y_train = load_mnist('mnist_small.csv')\n"
   ]
  },
  {
   "cell_type": "markdown",
   "metadata": {},
   "source": [
    "### Part 1: model selection"
   ]
  },
  {
   "cell_type": "code",
   "execution_count": null,
   "metadata": {
    "collapsed": true
   },
   "outputs": [],
   "source": [
    "# conduct experiments for finding a good model and training algorithm\n",
    "\n",
    "\n"
   ]
  },
  {
   "cell_type": "markdown",
   "metadata": {},
   "source": [
    "### Part 2: deployment"
   ]
  },
  {
   "cell_type": "code",
   "execution_count": 89,
   "metadata": {
    "collapsed": true
   },
   "outputs": [],
   "source": [
    "# don't forget the imports!\n",
    "\n",
    "from keras.models import Sequential\n",
    "\n",
    "\n",
    "def train(X_train,y_train):\n",
    "    \"\"\"\n",
    "    define and train a multilayer perceptron (MLP)\n",
    "    \"\"\"\n",
    "    model = Sequential()\n",
    "    \n",
    "    # TODO\n",
    "    \n",
    "    return model\n",
    "\n",
    "\n",
    "\n"
   ]
  }
 ],
 "metadata": {
  "kernelspec": {
   "display_name": "Python 3",
   "language": "python",
   "name": "python3"
  },
  "language_info": {
   "codemirror_mode": {
    "name": "ipython",
    "version": 3
   },
   "file_extension": ".py",
   "mimetype": "text/x-python",
   "name": "python",
   "nbconvert_exporter": "python",
   "pygments_lexer": "ipython3",
   "version": "3.5.5"
  }
 },
 "nbformat": 4,
 "nbformat_minor": 2
}
